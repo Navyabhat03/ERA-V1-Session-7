{
 "cells": [
  {
   "cell_type": "code",
   "execution_count": 1,
   "id": "9e0929d2",
   "metadata": {},
   "outputs": [],
   "source": [
    "from __future__ import print_function\n",
    "import torch\n",
    "import torch.nn as nn\n",
    "import torch.nn.functional as F\n",
    "import torch.optim as optim\n",
    "from torchvision import datasets, transforms\n",
    "from models import Model_1, Model_2, Model_3\n",
    "import utils"
   ]
  },
  {
   "cell_type": "code",
   "execution_count": 2,
   "id": "125a27ea",
   "metadata": {},
   "outputs": [],
   "source": [
    "# Train Phase transformations\n",
    "train_transforms = transforms.Compose([\n",
    "                                      #  transforms.Resize((28, 28)),\n",
    "                                      #  transforms.ColorJitter(brightness=0.10, contrast=0.1, saturation=0.10, hue=0.1),\n",
    "                                       transforms.RandomRotation((-7.0, 7.0), fill=(1,)),\n",
    "                                       transforms.ToTensor(),\n",
    "                                       transforms.Normalize((0.1307,), (0.3081,)) # The mean and std have to be sequences (e.g., tuples), therefore you should add a comma after the values.\n",
    "                                       # Note the difference between (0.1307) and (0.1307,)\n",
    "                                       ])\n",
    "\n",
    "# Test Phase transformations\n",
    "test_transforms = transforms.Compose([\n",
    "                                      #  transforms.Resize((28, 28)),\n",
    "                                      #  transforms.ColorJitter(brightness=0.10, contrast=0.1, saturation=0.10, hue=0.1),\n",
    "                                       transforms.ToTensor(),\n",
    "                                       transforms.Normalize((0.1307,), (0.3081,))\n",
    "                                       ])\n"
   ]
  },
  {
   "cell_type": "code",
   "execution_count": 3,
   "id": "deee4349",
   "metadata": {},
   "outputs": [],
   "source": [
    "train = datasets.MNIST('./data', train=True, download=True, transform=train_transforms)\n",
    "test = datasets.MNIST('./data', train=False, download=True, transform=test_transforms)"
   ]
  },
  {
   "cell_type": "code",
   "execution_count": 4,
   "id": "fe091c02",
   "metadata": {},
   "outputs": [
    {
     "name": "stdout",
     "output_type": "stream",
     "text": [
      "CUDA Available? False\n"
     ]
    }
   ],
   "source": [
    "SEED = 1\n",
    "\n",
    "# CUDA?\n",
    "cuda = torch.cuda.is_available()\n",
    "print(\"CUDA Available?\", cuda)\n",
    "\n",
    "# For reproducibility\n",
    "torch.manual_seed(SEED)\n",
    "\n",
    "if cuda:\n",
    "    torch.cuda.manual_seed(SEED)\n",
    "\n",
    "# dataloader arguments - something you'll fetch these from cmdprmt\n",
    "dataloader_args = dict(shuffle=True, batch_size=128, num_workers=4, pin_memory=True) if cuda else dict(shuffle=True, batch_size=64)\n",
    "\n",
    "# train dataloader\n",
    "train_loader = torch.utils.data.DataLoader(train, **dataloader_args)\n",
    "\n",
    "# test dataloader\n",
    "test_loader = torch.utils.data.DataLoader(test, **dataloader_args)"
   ]
  },
  {
   "cell_type": "code",
   "execution_count": 8,
   "id": "7f82f0f2",
   "metadata": {},
   "outputs": [],
   "source": [
    "torch.manual_seed(1)\n",
    "batch_size = 128\n",
    "\n",
    "kwargs = {'num_workers': 1, 'pin_memory': True} if use_cuda else {}\n",
    "train_loader = torch.utils.data.DataLoader(\n",
    "    datasets.MNIST('../data', train=True, download=True,\n",
    "                    transform=transforms.Compose([\n",
    "                        transforms.ToTensor(),\n",
    "                        transforms.Normalize((0.1307,), (0.3081,))\n",
    "                    ])),\n",
    "    batch_size=batch_size, shuffle=True, **kwargs)\n",
    "test_loader = torch.utils.data.DataLoader(\n",
    "    datasets.MNIST('../data', train=False, transform=transforms.Compose([\n",
    "                        transforms.ToTensor(),\n",
    "                        transforms.Normalize((0.1307,), (0.3081,))\n",
    "                    ])),\n",
    "    batch_size=batch_size, shuffle=True, **kwargs)"
   ]
  },
  {
   "cell_type": "markdown",
   "id": "669d6d9b",
   "metadata": {},
   "source": [
    "## Model 1"
   ]
  },
  {
   "cell_type": "code",
   "execution_count": 5,
   "id": "dde57f1f",
   "metadata": {},
   "outputs": [
    {
     "name": "stdout",
     "output_type": "stream",
     "text": [
      "----------------------------------------------------------------\n",
      "        Layer (type)               Output Shape         Param #\n",
      "================================================================\n",
      "            Conv2d-1            [-1, 8, 26, 26]              72\n",
      "              ReLU-2            [-1, 8, 26, 26]               0\n",
      "       BatchNorm2d-3            [-1, 8, 26, 26]              16\n",
      "           Dropout-4            [-1, 8, 26, 26]               0\n",
      "            Conv2d-5           [-1, 16, 24, 24]           1,152\n",
      "              ReLU-6           [-1, 16, 24, 24]               0\n",
      "       BatchNorm2d-7           [-1, 16, 24, 24]              32\n",
      "           Dropout-8           [-1, 16, 24, 24]               0\n",
      "            Conv2d-9           [-1, 10, 24, 24]             160\n",
      "        MaxPool2d-10           [-1, 10, 12, 12]               0\n",
      "           Conv2d-11           [-1, 10, 10, 10]             900\n",
      "             ReLU-12           [-1, 10, 10, 10]               0\n",
      "      BatchNorm2d-13           [-1, 10, 10, 10]              20\n",
      "          Dropout-14           [-1, 10, 10, 10]               0\n",
      "           Conv2d-15           [-1, 10, 10, 10]             900\n",
      "             ReLU-16           [-1, 10, 10, 10]               0\n",
      "      BatchNorm2d-17           [-1, 10, 10, 10]              20\n",
      "          Dropout-18           [-1, 10, 10, 10]               0\n",
      "        MaxPool2d-19             [-1, 10, 5, 5]               0\n",
      "           Conv2d-20             [-1, 10, 5, 5]             900\n",
      "             ReLU-21             [-1, 10, 5, 5]               0\n",
      "      BatchNorm2d-22             [-1, 10, 5, 5]              20\n",
      "          Dropout-23             [-1, 10, 5, 5]               0\n",
      "        AvgPool2d-24             [-1, 10, 1, 1]               0\n",
      "           Conv2d-25             [-1, 10, 1, 1]             100\n",
      "      BatchNorm2d-26             [-1, 10, 1, 1]              20\n",
      "             ReLU-27             [-1, 10, 1, 1]               0\n",
      "          Dropout-28             [-1, 10, 1, 1]               0\n",
      "================================================================\n",
      "Total params: 4,312\n",
      "Trainable params: 4,312\n",
      "Non-trainable params: 0\n",
      "----------------------------------------------------------------\n",
      "Input size (MB): 0.00\n",
      "Forward/backward pass size (MB): 0.57\n",
      "Params size (MB): 0.02\n",
      "Estimated Total Size (MB): 0.59\n",
      "----------------------------------------------------------------\n"
     ]
    }
   ],
   "source": [
    "# !pip install torchsummary\n",
    "from torchsummary import summary\n",
    "use_cuda = torch.cuda.is_available()\n",
    "device = torch.device(\"cuda\" if use_cuda else \"cpu\")\n",
    "model = Model_1().to(device)\n",
    "summary(model, input_size=(1, 28, 28))"
   ]
  },
  {
   "cell_type": "code",
   "execution_count": 15,
   "id": "b0e4685b",
   "metadata": {},
   "outputs": [
    {
     "name": "stdout",
     "output_type": "stream",
     "text": [
      "EPOCH: 1\n"
     ]
    },
    {
     "name": "stderr",
     "output_type": "stream",
     "text": [
      "Loss=0.31238338351249695 Batch_id=468 Accuracy=80.67: 100%|██████████████████████████| 469/469 [01:19<00:00,  5.92it/s]\n"
     ]
    },
    {
     "name": "stdout",
     "output_type": "stream",
     "text": [
      "\n",
      "Test set: Average loss: 0.2524, Accuracy: 9476/10000 (94.76%)\n",
      "\n",
      "EPOCH: 2\n"
     ]
    },
    {
     "name": "stderr",
     "output_type": "stream",
     "text": [
      "Loss=0.2876855432987213 Batch_id=468 Accuracy=86.83: 100%|███████████████████████████| 469/469 [01:08<00:00,  6.84it/s]\n"
     ]
    },
    {
     "name": "stdout",
     "output_type": "stream",
     "text": [
      "\n",
      "Test set: Average loss: 0.1652, Accuracy: 9630/10000 (96.30%)\n",
      "\n",
      "EPOCH: 3\n"
     ]
    },
    {
     "name": "stderr",
     "output_type": "stream",
     "text": [
      "Loss=0.31500059366226196 Batch_id=468 Accuracy=87.42: 100%|██████████████████████████| 469/469 [01:22<00:00,  5.68it/s]\n"
     ]
    },
    {
     "name": "stdout",
     "output_type": "stream",
     "text": [
      "\n",
      "Test set: Average loss: 0.1277, Accuracy: 9724/10000 (97.24%)\n",
      "\n",
      "EPOCH: 4\n"
     ]
    },
    {
     "name": "stderr",
     "output_type": "stream",
     "text": [
      "Loss=0.43255338072776794 Batch_id=468 Accuracy=87.53: 100%|██████████████████████████| 469/469 [01:16<00:00,  6.16it/s]\n"
     ]
    },
    {
     "name": "stdout",
     "output_type": "stream",
     "text": [
      "\n",
      "Test set: Average loss: 0.1448, Accuracy: 9673/10000 (96.73%)\n",
      "\n",
      "EPOCH: 5\n"
     ]
    },
    {
     "name": "stderr",
     "output_type": "stream",
     "text": [
      "Loss=0.37960970401763916 Batch_id=468 Accuracy=87.93: 100%|██████████████████████████| 469/469 [01:51<00:00,  4.19it/s]\n"
     ]
    },
    {
     "name": "stdout",
     "output_type": "stream",
     "text": [
      "\n",
      "Test set: Average loss: 0.1205, Accuracy: 9720/10000 (97.20%)\n",
      "\n",
      "EPOCH: 6\n"
     ]
    },
    {
     "name": "stderr",
     "output_type": "stream",
     "text": [
      "Loss=0.37139439582824707 Batch_id=468 Accuracy=88.16: 100%|██████████████████████████| 469/469 [01:44<00:00,  4.50it/s]\n"
     ]
    },
    {
     "name": "stdout",
     "output_type": "stream",
     "text": [
      "\n",
      "Test set: Average loss: 0.0910, Accuracy: 9798/10000 (97.98%)\n",
      "\n",
      "EPOCH: 7\n"
     ]
    },
    {
     "name": "stderr",
     "output_type": "stream",
     "text": [
      "Loss=0.2795414328575134 Batch_id=468 Accuracy=88.23: 100%|███████████████████████████| 469/469 [01:35<00:00,  4.90it/s]\n"
     ]
    },
    {
     "name": "stdout",
     "output_type": "stream",
     "text": [
      "\n",
      "Test set: Average loss: 0.0744, Accuracy: 9848/10000 (98.48%)\n",
      "\n",
      "EPOCH: 8\n"
     ]
    },
    {
     "name": "stderr",
     "output_type": "stream",
     "text": [
      "Loss=0.2690671980381012 Batch_id=468 Accuracy=88.42: 100%|███████████████████████████| 469/469 [01:28<00:00,  5.27it/s]\n"
     ]
    },
    {
     "name": "stdout",
     "output_type": "stream",
     "text": [
      "\n",
      "Test set: Average loss: 0.0730, Accuracy: 9837/10000 (98.37%)\n",
      "\n",
      "EPOCH: 9\n"
     ]
    },
    {
     "name": "stderr",
     "output_type": "stream",
     "text": [
      "Loss=0.3864431083202362 Batch_id=468 Accuracy=88.58: 100%|███████████████████████████| 469/469 [01:31<00:00,  5.11it/s]\n"
     ]
    },
    {
     "name": "stdout",
     "output_type": "stream",
     "text": [
      "\n",
      "Test set: Average loss: 0.0843, Accuracy: 9822/10000 (98.22%)\n",
      "\n",
      "EPOCH: 10\n"
     ]
    },
    {
     "name": "stderr",
     "output_type": "stream",
     "text": [
      "Loss=0.34271863102912903 Batch_id=468 Accuracy=88.69: 100%|██████████████████████████| 469/469 [01:33<00:00,  5.04it/s]\n"
     ]
    },
    {
     "name": "stdout",
     "output_type": "stream",
     "text": [
      "\n",
      "Test set: Average loss: 0.0698, Accuracy: 9843/10000 (98.43%)\n",
      "\n",
      "EPOCH: 11\n"
     ]
    },
    {
     "name": "stderr",
     "output_type": "stream",
     "text": [
      "Loss=0.43242859840393066 Batch_id=468 Accuracy=88.58: 100%|██████████████████████████| 469/469 [01:35<00:00,  4.92it/s]\n"
     ]
    },
    {
     "name": "stdout",
     "output_type": "stream",
     "text": [
      "\n",
      "Test set: Average loss: 0.0774, Accuracy: 9829/10000 (98.29%)\n",
      "\n",
      "EPOCH: 12\n"
     ]
    },
    {
     "name": "stderr",
     "output_type": "stream",
     "text": [
      "Loss=0.6199967861175537 Batch_id=468 Accuracy=88.67: 100%|███████████████████████████| 469/469 [01:39<00:00,  4.73it/s]\n"
     ]
    },
    {
     "name": "stdout",
     "output_type": "stream",
     "text": [
      "\n",
      "Test set: Average loss: 0.0895, Accuracy: 9797/10000 (97.97%)\n",
      "\n",
      "EPOCH: 13\n"
     ]
    },
    {
     "name": "stderr",
     "output_type": "stream",
     "text": [
      "Loss=0.26041537523269653 Batch_id=468 Accuracy=88.78: 100%|██████████████████████████| 469/469 [02:07<00:00,  3.67it/s]\n"
     ]
    },
    {
     "name": "stdout",
     "output_type": "stream",
     "text": [
      "\n",
      "Test set: Average loss: 0.0646, Accuracy: 9848/10000 (98.48%)\n",
      "\n",
      "EPOCH: 14\n"
     ]
    },
    {
     "name": "stderr",
     "output_type": "stream",
     "text": [
      "Loss=0.3081066310405731 Batch_id=468 Accuracy=88.71: 100%|███████████████████████████| 469/469 [01:42<00:00,  4.56it/s]\n"
     ]
    },
    {
     "name": "stdout",
     "output_type": "stream",
     "text": [
      "\n",
      "Test set: Average loss: 0.0684, Accuracy: 9839/10000 (98.39%)\n",
      "\n",
      "EPOCH: 15\n"
     ]
    },
    {
     "name": "stderr",
     "output_type": "stream",
     "text": [
      "Loss=0.3390810191631317 Batch_id=468 Accuracy=88.88: 100%|███████████████████████████| 469/469 [01:59<00:00,  3.92it/s]\n"
     ]
    },
    {
     "name": "stdout",
     "output_type": "stream",
     "text": [
      "\n",
      "Test set: Average loss: 0.0621, Accuracy: 9853/10000 (98.53%)\n",
      "\n"
     ]
    }
   ],
   "source": [
    "model = Model_1().to(device)\n",
    "optimizer = optim.SGD(model.parameters(), lr=0.01, momentum=0.9)\n",
    "\n",
    "scheduler = torch.optim.lr_scheduler.StepLR(optimizer, step_size=1, gamma=0.1)\n",
    "\n",
    "for epoch in range(0, 15):\n",
    "    print(f\"EPOCH: {epoch+1}\")\n",
    "    utils.train(model, device, train_loader, optimizer, epoch)\n",
    "    utils.test(model, device, test_loader)"
   ]
  },
  {
   "cell_type": "markdown",
   "id": "36defc93",
   "metadata": {},
   "source": [
    "## Model 2"
   ]
  },
  {
   "cell_type": "code",
   "execution_count": 10,
   "id": "2aa8a157",
   "metadata": {},
   "outputs": [
    {
     "name": "stdout",
     "output_type": "stream",
     "text": [
      "----------------------------------------------------------------\n",
      "        Layer (type)               Output Shape         Param #\n",
      "================================================================\n",
      "            Conv2d-1            [-1, 8, 26, 26]              72\n",
      "              ReLU-2            [-1, 8, 26, 26]               0\n",
      "       BatchNorm2d-3            [-1, 8, 26, 26]              16\n",
      "            Conv2d-4           [-1, 16, 24, 24]           1,152\n",
      "              ReLU-5           [-1, 16, 24, 24]               0\n",
      "       BatchNorm2d-6           [-1, 16, 24, 24]              32\n",
      "            Conv2d-7           [-1, 10, 24, 24]             160\n",
      "         MaxPool2d-8           [-1, 10, 12, 12]               0\n",
      "            Conv2d-9           [-1, 10, 10, 10]             900\n",
      "             ReLU-10           [-1, 10, 10, 10]               0\n",
      "      BatchNorm2d-11           [-1, 10, 10, 10]              20\n",
      "           Conv2d-12             [-1, 16, 8, 8]           1,440\n",
      "             ReLU-13             [-1, 16, 8, 8]               0\n",
      "      BatchNorm2d-14             [-1, 16, 8, 8]              32\n",
      "           Conv2d-15             [-1, 10, 6, 6]           1,440\n",
      "             ReLU-16             [-1, 10, 6, 6]               0\n",
      "      BatchNorm2d-17             [-1, 10, 6, 6]              20\n",
      "           Conv2d-18             [-1, 10, 4, 4]             900\n",
      "             ReLU-19             [-1, 10, 4, 4]               0\n",
      "      BatchNorm2d-20             [-1, 10, 4, 4]              20\n",
      "           Conv2d-21             [-1, 10, 2, 2]             900\n",
      "             ReLU-22             [-1, 10, 2, 2]               0\n",
      "      BatchNorm2d-23             [-1, 10, 2, 2]              20\n",
      "           Conv2d-24             [-1, 10, 1, 1]             400\n",
      "================================================================\n",
      "Total params: 7,524\n",
      "Trainable params: 7,524\n",
      "Non-trainable params: 0\n",
      "----------------------------------------------------------------\n",
      "Input size (MB): 0.00\n",
      "Forward/backward pass size (MB): 0.45\n",
      "Params size (MB): 0.03\n",
      "Estimated Total Size (MB): 0.48\n",
      "----------------------------------------------------------------\n"
     ]
    }
   ],
   "source": [
    "from torchsummary import summary\n",
    "use_cuda = torch.cuda.is_available()\n",
    "device = torch.device(\"cuda\" if use_cuda else \"cpu\")\n",
    "model = Model_2().to(device)\n",
    "summary(model, input_size=(1, 28, 28))"
   ]
  },
  {
   "cell_type": "code",
   "execution_count": 12,
   "id": "78c2c10c",
   "metadata": {},
   "outputs": [
    {
     "name": "stdout",
     "output_type": "stream",
     "text": [
      "EPOCH: 1\n"
     ]
    },
    {
     "name": "stderr",
     "output_type": "stream",
     "text": [
      "Loss=0.04411003366112709 Batch_id=468 Accuracy=92.21: 100%|██████████████████████████| 469/469 [00:47<00:00,  9.82it/s]\n"
     ]
    },
    {
     "name": "stdout",
     "output_type": "stream",
     "text": [
      "\n",
      "Test set: Average loss: 0.0840, Accuracy: 9743/10000 (97.43%)\n",
      "\n",
      "EPOCH: 2\n"
     ]
    },
    {
     "name": "stderr",
     "output_type": "stream",
     "text": [
      "Loss=0.028225289657711983 Batch_id=468 Accuracy=97.96: 100%|█████████████████████████| 469/469 [00:51<00:00,  9.18it/s]\n"
     ]
    },
    {
     "name": "stdout",
     "output_type": "stream",
     "text": [
      "\n",
      "Test set: Average loss: 0.0560, Accuracy: 9826/10000 (98.26%)\n",
      "\n",
      "EPOCH: 3\n"
     ]
    },
    {
     "name": "stderr",
     "output_type": "stream",
     "text": [
      "Loss=0.02461508847773075 Batch_id=468 Accuracy=98.46: 100%|██████████████████████████| 469/469 [00:57<00:00,  8.19it/s]\n"
     ]
    },
    {
     "name": "stdout",
     "output_type": "stream",
     "text": [
      "\n",
      "Test set: Average loss: 0.0433, Accuracy: 9871/10000 (98.71%)\n",
      "\n",
      "EPOCH: 4\n"
     ]
    },
    {
     "name": "stderr",
     "output_type": "stream",
     "text": [
      "Loss=0.026385633274912834 Batch_id=468 Accuracy=98.69: 100%|█████████████████████████| 469/469 [00:51<00:00,  9.12it/s]\n"
     ]
    },
    {
     "name": "stdout",
     "output_type": "stream",
     "text": [
      "\n",
      "Test set: Average loss: 0.0428, Accuracy: 9865/10000 (98.65%)\n",
      "\n",
      "EPOCH: 5\n"
     ]
    },
    {
     "name": "stderr",
     "output_type": "stream",
     "text": [
      "Loss=0.029324539005756378 Batch_id=468 Accuracy=98.88: 100%|█████████████████████████| 469/469 [00:55<00:00,  8.47it/s]\n"
     ]
    },
    {
     "name": "stdout",
     "output_type": "stream",
     "text": [
      "\n",
      "Test set: Average loss: 0.0341, Accuracy: 9898/10000 (98.98%)\n",
      "\n",
      "EPOCH: 6\n"
     ]
    },
    {
     "name": "stderr",
     "output_type": "stream",
     "text": [
      "Loss=0.0370728075504303 Batch_id=468 Accuracy=99.00: 100%|███████████████████████████| 469/469 [00:53<00:00,  8.81it/s]\n"
     ]
    },
    {
     "name": "stdout",
     "output_type": "stream",
     "text": [
      "\n",
      "Test set: Average loss: 0.0381, Accuracy: 9876/10000 (98.76%)\n",
      "\n",
      "EPOCH: 7\n"
     ]
    },
    {
     "name": "stderr",
     "output_type": "stream",
     "text": [
      "Loss=0.01636771485209465 Batch_id=468 Accuracy=99.13: 100%|██████████████████████████| 469/469 [00:47<00:00,  9.93it/s]\n"
     ]
    },
    {
     "name": "stdout",
     "output_type": "stream",
     "text": [
      "\n",
      "Test set: Average loss: 0.0330, Accuracy: 9886/10000 (98.86%)\n",
      "\n",
      "EPOCH: 8\n"
     ]
    },
    {
     "name": "stderr",
     "output_type": "stream",
     "text": [
      "Loss=0.019873255863785744 Batch_id=468 Accuracy=99.15: 100%|█████████████████████████| 469/469 [00:54<00:00,  8.60it/s]\n"
     ]
    },
    {
     "name": "stdout",
     "output_type": "stream",
     "text": [
      "\n",
      "Test set: Average loss: 0.0320, Accuracy: 9892/10000 (98.92%)\n",
      "\n",
      "EPOCH: 9\n"
     ]
    },
    {
     "name": "stderr",
     "output_type": "stream",
     "text": [
      "Loss=0.015808412805199623 Batch_id=468 Accuracy=99.18: 100%|█████████████████████████| 469/469 [01:17<00:00,  6.04it/s]\n"
     ]
    },
    {
     "name": "stdout",
     "output_type": "stream",
     "text": [
      "\n",
      "Test set: Average loss: 0.0278, Accuracy: 9907/10000 (99.07%)\n",
      "\n",
      "EPOCH: 10\n"
     ]
    },
    {
     "name": "stderr",
     "output_type": "stream",
     "text": [
      "Loss=0.004054085351526737 Batch_id=468 Accuracy=99.29: 100%|█████████████████████████| 469/469 [01:27<00:00,  5.35it/s]\n"
     ]
    },
    {
     "name": "stdout",
     "output_type": "stream",
     "text": [
      "\n",
      "Test set: Average loss: 0.0359, Accuracy: 9893/10000 (98.93%)\n",
      "\n",
      "EPOCH: 11\n"
     ]
    },
    {
     "name": "stderr",
     "output_type": "stream",
     "text": [
      "Loss=0.01773764006793499 Batch_id=468 Accuracy=99.33: 100%|██████████████████████████| 469/469 [00:54<00:00,  8.63it/s]\n"
     ]
    },
    {
     "name": "stdout",
     "output_type": "stream",
     "text": [
      "\n",
      "Test set: Average loss: 0.0282, Accuracy: 9911/10000 (99.11%)\n",
      "\n",
      "EPOCH: 12\n"
     ]
    },
    {
     "name": "stderr",
     "output_type": "stream",
     "text": [
      "Loss=0.005070281680673361 Batch_id=468 Accuracy=99.43: 100%|█████████████████████████| 469/469 [00:59<00:00,  7.89it/s]\n"
     ]
    },
    {
     "name": "stdout",
     "output_type": "stream",
     "text": [
      "\n",
      "Test set: Average loss: 0.0297, Accuracy: 9908/10000 (99.08%)\n",
      "\n",
      "EPOCH: 13\n"
     ]
    },
    {
     "name": "stderr",
     "output_type": "stream",
     "text": [
      "Loss=0.021261872723698616 Batch_id=468 Accuracy=99.40: 100%|█████████████████████████| 469/469 [00:55<00:00,  8.41it/s]\n"
     ]
    },
    {
     "name": "stdout",
     "output_type": "stream",
     "text": [
      "\n",
      "Test set: Average loss: 0.0346, Accuracy: 9887/10000 (98.87%)\n",
      "\n",
      "EPOCH: 14\n"
     ]
    },
    {
     "name": "stderr",
     "output_type": "stream",
     "text": [
      "Loss=0.009823241271078587 Batch_id=468 Accuracy=99.47: 100%|█████████████████████████| 469/469 [00:58<00:00,  8.03it/s]\n"
     ]
    },
    {
     "name": "stdout",
     "output_type": "stream",
     "text": [
      "\n",
      "Test set: Average loss: 0.0295, Accuracy: 9904/10000 (99.04%)\n",
      "\n",
      "EPOCH: 15\n"
     ]
    },
    {
     "name": "stderr",
     "output_type": "stream",
     "text": [
      "Loss=0.003706095740199089 Batch_id=468 Accuracy=99.50: 100%|█████████████████████████| 469/469 [00:52<00:00,  8.92it/s]\n"
     ]
    },
    {
     "name": "stdout",
     "output_type": "stream",
     "text": [
      "\n",
      "Test set: Average loss: 0.0337, Accuracy: 9902/10000 (99.02%)\n",
      "\n"
     ]
    }
   ],
   "source": [
    "model = Model_2().to(device)\n",
    "optimizer = optim.SGD(model.parameters(), lr=0.01, momentum=0.9)\n",
    "\n",
    "scheduler = torch.optim.lr_scheduler.StepLR(optimizer, step_size=6, gamma=0.1)\n",
    "\n",
    "for epoch in range(0, 15):\n",
    "    print(f\"EPOCH: {epoch+1}\")\n",
    "    utils.train(model, device, train_loader, optimizer, epoch)\n",
    "    utils.test(model, device, test_loader)"
   ]
  },
  {
   "cell_type": "markdown",
   "id": "ce70e899",
   "metadata": {},
   "source": [
    "## Model 3"
   ]
  },
  {
   "cell_type": "code",
   "execution_count": 13,
   "id": "1fdb2ea6",
   "metadata": {},
   "outputs": [
    {
     "name": "stdout",
     "output_type": "stream",
     "text": [
      "----------------------------------------------------------------\n",
      "        Layer (type)               Output Shape         Param #\n",
      "================================================================\n",
      "            Conv2d-1            [-1, 8, 26, 26]              72\n",
      "              ReLU-2            [-1, 8, 26, 26]               0\n",
      "       BatchNorm2d-3            [-1, 8, 26, 26]              16\n",
      "            Conv2d-4           [-1, 16, 24, 24]           1,152\n",
      "              ReLU-5           [-1, 16, 24, 24]               0\n",
      "       BatchNorm2d-6           [-1, 16, 24, 24]              32\n",
      "            Conv2d-7           [-1, 10, 24, 24]             160\n",
      "         MaxPool2d-8           [-1, 10, 12, 12]               0\n",
      "            Conv2d-9           [-1, 10, 10, 10]             900\n",
      "             ReLU-10           [-1, 10, 10, 10]               0\n",
      "      BatchNorm2d-11           [-1, 10, 10, 10]              20\n",
      "           Conv2d-12             [-1, 16, 8, 8]           1,440\n",
      "             ReLU-13             [-1, 16, 8, 8]               0\n",
      "      BatchNorm2d-14             [-1, 16, 8, 8]              32\n",
      "           Conv2d-15             [-1, 10, 6, 6]           1,440\n",
      "             ReLU-16             [-1, 10, 6, 6]               0\n",
      "      BatchNorm2d-17             [-1, 10, 6, 6]              20\n",
      "           Conv2d-18             [-1, 10, 4, 4]             900\n",
      "             ReLU-19             [-1, 10, 4, 4]               0\n",
      "      BatchNorm2d-20             [-1, 10, 4, 4]              20\n",
      "           Conv2d-21             [-1, 10, 2, 2]             900\n",
      "             ReLU-22             [-1, 10, 2, 2]               0\n",
      "      BatchNorm2d-23             [-1, 10, 2, 2]              20\n",
      "           Conv2d-24             [-1, 10, 1, 1]             400\n",
      "================================================================\n",
      "Total params: 7,524\n",
      "Trainable params: 7,524\n",
      "Non-trainable params: 0\n",
      "----------------------------------------------------------------\n",
      "Input size (MB): 0.00\n",
      "Forward/backward pass size (MB): 0.45\n",
      "Params size (MB): 0.03\n",
      "Estimated Total Size (MB): 0.48\n",
      "----------------------------------------------------------------\n"
     ]
    }
   ],
   "source": [
    "from torchsummary import summary\n",
    "use_cuda = torch.cuda.is_available()\n",
    "device = torch.device(\"cuda\" if use_cuda else \"cpu\")\n",
    "model = Model_3().to(device)\n",
    "summary(model, input_size=(1, 28, 28))"
   ]
  },
  {
   "cell_type": "code",
   "execution_count": 14,
   "id": "a7a3d75f",
   "metadata": {},
   "outputs": [
    {
     "name": "stdout",
     "output_type": "stream",
     "text": [
      "EPOCH: 1\n"
     ]
    },
    {
     "name": "stderr",
     "output_type": "stream",
     "text": [
      "Loss=0.07542801648378372 Batch_id=468 Accuracy=92.16: 100%|██████████████████████████| 469/469 [01:03<00:00,  7.42it/s]\n"
     ]
    },
    {
     "name": "stdout",
     "output_type": "stream",
     "text": [
      "\n",
      "Test set: Average loss: 0.0783, Accuracy: 9765/10000 (97.65%)\n",
      "\n",
      "EPOCH: 2\n"
     ]
    },
    {
     "name": "stderr",
     "output_type": "stream",
     "text": [
      "Loss=0.022002853453159332 Batch_id=468 Accuracy=97.96: 100%|█████████████████████████| 469/469 [00:54<00:00,  8.65it/s]\n"
     ]
    },
    {
     "name": "stdout",
     "output_type": "stream",
     "text": [
      "\n",
      "Test set: Average loss: 0.0452, Accuracy: 9867/10000 (98.67%)\n",
      "\n",
      "EPOCH: 3\n"
     ]
    },
    {
     "name": "stderr",
     "output_type": "stream",
     "text": [
      "Loss=0.05907054618000984 Batch_id=468 Accuracy=98.42: 100%|██████████████████████████| 469/469 [01:06<00:00,  7.10it/s]\n"
     ]
    },
    {
     "name": "stdout",
     "output_type": "stream",
     "text": [
      "\n",
      "Test set: Average loss: 0.0480, Accuracy: 9860/10000 (98.60%)\n",
      "\n",
      "EPOCH: 4\n"
     ]
    },
    {
     "name": "stderr",
     "output_type": "stream",
     "text": [
      "Loss=0.02142287790775299 Batch_id=468 Accuracy=98.69: 100%|██████████████████████████| 469/469 [00:54<00:00,  8.64it/s]\n"
     ]
    },
    {
     "name": "stdout",
     "output_type": "stream",
     "text": [
      "\n",
      "Test set: Average loss: 0.0376, Accuracy: 9893/10000 (98.93%)\n",
      "\n",
      "EPOCH: 5\n"
     ]
    },
    {
     "name": "stderr",
     "output_type": "stream",
     "text": [
      "Loss=0.01373224426060915 Batch_id=468 Accuracy=98.94: 100%|██████████████████████████| 469/469 [00:55<00:00,  8.39it/s]\n"
     ]
    },
    {
     "name": "stdout",
     "output_type": "stream",
     "text": [
      "\n",
      "Test set: Average loss: 0.0361, Accuracy: 9883/10000 (98.83%)\n",
      "\n",
      "EPOCH: 6\n"
     ]
    },
    {
     "name": "stderr",
     "output_type": "stream",
     "text": [
      "Loss=0.045940548181533813 Batch_id=468 Accuracy=99.02: 100%|█████████████████████████| 469/469 [01:03<00:00,  7.42it/s]\n"
     ]
    },
    {
     "name": "stdout",
     "output_type": "stream",
     "text": [
      "\n",
      "Test set: Average loss: 0.0338, Accuracy: 9894/10000 (98.94%)\n",
      "\n",
      "EPOCH: 7\n"
     ]
    },
    {
     "name": "stderr",
     "output_type": "stream",
     "text": [
      "Loss=0.06238046661019325 Batch_id=468 Accuracy=99.10: 100%|██████████████████████████| 469/469 [01:04<00:00,  7.25it/s]\n"
     ]
    },
    {
     "name": "stdout",
     "output_type": "stream",
     "text": [
      "\n",
      "Test set: Average loss: 0.0265, Accuracy: 9913/10000 (99.13%)\n",
      "\n",
      "EPOCH: 8\n"
     ]
    },
    {
     "name": "stderr",
     "output_type": "stream",
     "text": [
      "Loss=0.014731300063431263 Batch_id=468 Accuracy=99.21: 100%|█████████████████████████| 469/469 [01:00<00:00,  7.72it/s]\n"
     ]
    },
    {
     "name": "stdout",
     "output_type": "stream",
     "text": [
      "\n",
      "Test set: Average loss: 0.0272, Accuracy: 9915/10000 (99.15%)\n",
      "\n",
      "EPOCH: 9\n"
     ]
    },
    {
     "name": "stderr",
     "output_type": "stream",
     "text": [
      "Loss=0.014313475228846073 Batch_id=468 Accuracy=99.28: 100%|█████████████████████████| 469/469 [01:03<00:00,  7.34it/s]\n"
     ]
    },
    {
     "name": "stdout",
     "output_type": "stream",
     "text": [
      "\n",
      "Test set: Average loss: 0.0272, Accuracy: 9907/10000 (99.07%)\n",
      "\n",
      "EPOCH: 10\n"
     ]
    },
    {
     "name": "stderr",
     "output_type": "stream",
     "text": [
      "Loss=0.00932665541768074 Batch_id=468 Accuracy=99.31: 100%|██████████████████████████| 469/469 [01:20<00:00,  5.85it/s]\n"
     ]
    },
    {
     "name": "stdout",
     "output_type": "stream",
     "text": [
      "\n",
      "Test set: Average loss: 0.0367, Accuracy: 9885/10000 (98.85%)\n",
      "\n",
      "EPOCH: 11\n"
     ]
    },
    {
     "name": "stderr",
     "output_type": "stream",
     "text": [
      "Loss=0.03328026458621025 Batch_id=468 Accuracy=99.28: 100%|██████████████████████████| 469/469 [01:27<00:00,  5.36it/s]\n"
     ]
    },
    {
     "name": "stdout",
     "output_type": "stream",
     "text": [
      "\n",
      "Test set: Average loss: 0.0282, Accuracy: 9920/10000 (99.20%)\n",
      "\n",
      "EPOCH: 12\n"
     ]
    },
    {
     "name": "stderr",
     "output_type": "stream",
     "text": [
      "Loss=0.022023307159543037 Batch_id=468 Accuracy=99.44: 100%|█████████████████████████| 469/469 [01:10<00:00,  6.69it/s]\n"
     ]
    },
    {
     "name": "stdout",
     "output_type": "stream",
     "text": [
      "\n",
      "Test set: Average loss: 0.0272, Accuracy: 9928/10000 (99.28%)\n",
      "\n",
      "EPOCH: 13\n"
     ]
    },
    {
     "name": "stderr",
     "output_type": "stream",
     "text": [
      "Loss=0.016750698909163475 Batch_id=468 Accuracy=99.46: 100%|█████████████████████████| 469/469 [01:04<00:00,  7.28it/s]\n"
     ]
    },
    {
     "name": "stdout",
     "output_type": "stream",
     "text": [
      "\n",
      "Test set: Average loss: 0.0246, Accuracy: 9924/10000 (99.24%)\n",
      "\n",
      "EPOCH: 14\n"
     ]
    },
    {
     "name": "stderr",
     "output_type": "stream",
     "text": [
      "Loss=0.01219156663864851 Batch_id=468 Accuracy=99.48: 100%|██████████████████████████| 469/469 [01:09<00:00,  6.76it/s]\n"
     ]
    },
    {
     "name": "stdout",
     "output_type": "stream",
     "text": [
      "\n",
      "Test set: Average loss: 0.0251, Accuracy: 9928/10000 (99.28%)\n",
      "\n",
      "EPOCH: 15\n"
     ]
    },
    {
     "name": "stderr",
     "output_type": "stream",
     "text": [
      "Loss=0.026589535176753998 Batch_id=468 Accuracy=99.50: 100%|█████████████████████████| 469/469 [01:00<00:00,  7.71it/s]\n"
     ]
    },
    {
     "name": "stdout",
     "output_type": "stream",
     "text": [
      "\n",
      "Test set: Average loss: 0.0264, Accuracy: 9918/10000 (99.18%)\n",
      "\n"
     ]
    }
   ],
   "source": [
    "model = Model_3().to(device)\n",
    "optimizer = optim.SGD(model.parameters(), lr=0.01, momentum=0.9)\n",
    "\n",
    "scheduler = torch.optim.lr_scheduler.ReduceLROnPlateau(optimizer, mode='min',\n",
    "    factor=0.1, patience=10, threshold=0.0001, threshold_mode='abs')\n",
    "\n",
    "for epoch in range(0, 15):\n",
    "    print(f\"EPOCH: {epoch+1}\")\n",
    "    utils.train(model, device, train_loader, optimizer, epoch)\n",
    "    utils.test(model, device, test_loader)"
   ]
  },
  {
   "cell_type": "code",
   "execution_count": null,
   "id": "96baecc4",
   "metadata": {},
   "outputs": [],
   "source": []
  },
  {
   "cell_type": "code",
   "execution_count": null,
   "id": "319e497e",
   "metadata": {},
   "outputs": [],
   "source": []
  },
  {
   "cell_type": "code",
   "execution_count": null,
   "id": "72f11b85",
   "metadata": {},
   "outputs": [],
   "source": []
  }
 ],
 "metadata": {
  "kernelspec": {
   "display_name": "Python 3 (ipykernel)",
   "language": "python",
   "name": "python3"
  },
  "language_info": {
   "codemirror_mode": {
    "name": "ipython",
    "version": 3
   },
   "file_extension": ".py",
   "mimetype": "text/x-python",
   "name": "python",
   "nbconvert_exporter": "python",
   "pygments_lexer": "ipython3",
   "version": "3.9.12"
  }
 },
 "nbformat": 4,
 "nbformat_minor": 5
}
